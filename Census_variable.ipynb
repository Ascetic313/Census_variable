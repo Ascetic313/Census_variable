{
 "cells": [
  {
   "cell_type": "code",
   "execution_count": null,
   "id": "93b0d599",
   "metadata": {},
   "outputs": [],
   "source": [
    "import codecademylib3\n",
    "\n",
    "# Import pandas with alias\n",
    "import pandas as pd\n",
    "\n",
    "# Read in the census dataframe\n",
    "census = pd.read_csv('census_data.csv', index_col=0)\n",
    "\n",
    "#Checking Census Data:\n",
    "print(census.head())\n",
    "print(census.dtypes)\n",
    "\n",
    "#Checking birth_year:\n",
    "print(census.birth_year.unique())\n",
    "\n",
    "#Replacing birth_year:\n",
    "census['birth_year'] = census['birth_year'].replace('missing', 1967)\n",
    "print(census.birth_year.unique())\n",
    "\n",
    "#Changing the variable type:\n",
    "census['birth_year'] = census['birth_year'].astype(int)\n",
    "print(census.dtypes)\n",
    "\n",
    "#Printing the Average birth_year:\n",
    "print(census.birth_year.mean())\n",
    "\n",
    "#converting Higher_tax variable to categories:\n",
    "census['higher_tax'] = pd.Categorical(census['higher_tax'],['strongly disagree','disagree','neutral','agree','strongly agree'], ordered = True)\n",
    "census['higher_tax'] = census['higher_tax'].astype(str)\n",
    "print(census.higher_tax.unique())\n",
    "\n",
    "#Encoding the variable higher_tax:\n",
    "census[\"higher_tax\"] = census[\"higher_tax\"].astype('category').cat.codes\n",
    "print(census.higher_tax.median())\n",
    "\n",
    "#Encoding the Marital Status:\n",
    "dummies = pd.get_dummies(data = census, columns = ['marital_status'])\n",
    "print(dummies.head)\n",
    "\n"
   ]
  }
 ],
 "metadata": {
  "kernelspec": {
   "display_name": "Python 3",
   "language": "python",
   "name": "python3"
  },
  "language_info": {
   "codemirror_mode": {
    "name": "ipython",
    "version": 3
   },
   "file_extension": ".py",
   "mimetype": "text/x-python",
   "name": "python",
   "nbconvert_exporter": "python",
   "pygments_lexer": "ipython3",
   "version": "3.8.8"
  }
 },
 "nbformat": 4,
 "nbformat_minor": 5
}
